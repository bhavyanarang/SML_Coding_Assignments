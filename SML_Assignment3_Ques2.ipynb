{
 "cells": [
  {
   "cell_type": "code",
   "execution_count": 49,
   "metadata": {},
   "outputs": [],
   "source": [
    "import matplotlib.pyplot as plt\n",
    "import numpy as np\n",
    "%matplotlib inline"
   ]
  },
  {
   "cell_type": "code",
   "execution_count": 57,
   "metadata": {},
   "outputs": [],
   "source": [
    "X_train=np.random.uniform(0,10,5)\n",
    "Y_train=X_train*np.exp(X_train)\n"
   ]
  },
  {
   "cell_type": "code",
   "execution_count": 58,
   "metadata": {},
   "outputs": [],
   "source": [
    "sigma_range=np.linspace(1e-3,1e3,100)\n",
    "l_range=np.linspace(1e-3,1e3,100)"
   ]
  },
  {
   "cell_type": "code",
   "execution_count": 59,
   "metadata": {},
   "outputs": [],
   "source": [
    "\n",
    "def cross_validation(train_x,train_y,index,sigma,leng):\n",
    "    size=len(train_x)-1\n",
    "    \n",
    "    K=np.zeros((size,size))\n",
    "    K_star=np.zeros((size,1))\n",
    "    K_star_star=np.zeros((1,1))\n",
    "    \n",
    "    curr_train_x=[]\n",
    "    curr_train_y=[]\n",
    "    \n",
    "    for i in range(len(train_x)):\n",
    "        if(i!=index):\n",
    "            curr_train_x.append(train_x[i])\n",
    "            curr_train_y.append(train_y[i])\n",
    "            \n",
    "    curr_train_y=np.reshape(curr_train_y,(size,1))\n",
    "    \n",
    "\n",
    "    for l in range(size):\n",
    "        for m in range(size):\n",
    "            K[l][m]=(sigma**2)*np.exp(-1*(l2_norm(curr_train_x[l],curr_train_x[m]))/(2*(leng**2)))\n",
    "\n",
    "        K_star[l][0]=(sigma**2)*np.exp(-1*(l2_norm(curr_train_x[l],train_x[index]))/(2*(leng**2)))\n",
    "            \n",
    "    K_star_star=sigma**2\n",
    "    \n",
    "    K_inv=np.linalg.pinv(K)\n",
    "        \n",
    "    mu_prediction=np.matmul(np.matmul(K_star.T,K_inv),curr_train_y)\n",
    "    error=(train_y[index]-mu_prediction[0][0])**2\n",
    "\n",
    "    return(error)\n",
    "                \n",
    "def get_pred(train_x,train_y,sigma,leng,point):\n",
    "    size=len(train_x)\n",
    "    \n",
    "    K=np.zeros((size,size))\n",
    "    K_star=np.zeros((size,1))\n",
    "    K_star_star=np.zeros((1,1))\n",
    "    \n",
    "    curr_train_x=train_x\n",
    "    curr_train_y=train_y\n",
    "            \n",
    "    curr_train_y=np.reshape(curr_train_y,(size,1))\n",
    "    \n",
    "\n",
    "    for l in range(size):\n",
    "        for m in range(size):\n",
    "            K[l][m]=(sigma**2)*np.exp(-1*(l2_norm(curr_train_x[l],curr_train_x[m]))/(2*(leng**2)))\n",
    "\n",
    "        K_star[l][0]=(sigma**2)*np.exp(-1*(l2_norm(curr_train_x[l],point))/(2*(leng**2)))\n",
    "            \n",
    "    K_star_star=sigma**2\n",
    "    \n",
    "    K_inv=np.linalg.pinv(K)\n",
    "        \n",
    "    mu_prediction=np.matmul(np.matmul(K_star.T,K_inv),curr_train_y)\n",
    "    sigma_pred=K_star_star+np.matmul(np.matmul(K_star.T,K_inv),K_star)\n",
    "    \n",
    "    return(mu_prediction[0][0],sigma_pred[0][0])\n",
    "\n",
    "def l2_norm(xi,xj):\n",
    "    return(abs((xi-xj)**2))\n"
   ]
  },
  {
   "cell_type": "code",
   "execution_count": 60,
   "metadata": {},
   "outputs": [
    {
     "name": "stdout",
     "output_type": "stream",
     "text": [
      "848.485\n",
      "363.637\n"
     ]
    }
   ],
   "source": [
    "optimal_sigma=-1\n",
    "optimal_l=-1\n",
    "min_error=1e15\n",
    "\n",
    "for i in sigma_range:\n",
    "    for j in l_range:\n",
    "        mean_error=0\n",
    "        for left_out in range(len(X_train)):\n",
    "            curr_error=cross_validation(X_train,Y_train,left_out,i,j)\n",
    "            mean_error+=curr_error\n",
    "            \n",
    "        mean_error/=5\n",
    "        if(mean_error<min_error):\n",
    "            min_error=mean_error\n",
    "            optimal_sigma=i\n",
    "            optimal_l=j\n",
    "\n",
    "print(optimal_sigma)\n",
    "print(optimal_l)\n",
    "\n"
   ]
  },
  {
   "cell_type": "code",
   "execution_count": 61,
   "metadata": {},
   "outputs": [
    {
     "name": "stdout",
     "output_type": "stream",
     "text": [
      "827293433.1000408\n"
     ]
    }
   ],
   "source": [
    "print(min_error)"
   ]
  },
  {
   "cell_type": "code",
   "execution_count": 62,
   "metadata": {},
   "outputs": [],
   "source": [
    "X_test=np.random.uniform(0,10,50)\n",
    "Y_test=X_test*np.exp(X_test)"
   ]
  },
  {
   "cell_type": "code",
   "execution_count": 63,
   "metadata": {},
   "outputs": [
    {
     "data": {
      "image/png": "[encoded data removed]",
      "text/plain": [
       "<Figure size 432x288 with 1 Axes>"
      ]
     },
     "metadata": {
      "needs_background": "light"
     },
     "output_type": "display_data"
    }
   ],
   "source": [
    "X_test=np.reshape(X_test,(50,1))\n",
    "Y_test=np.reshape(Y_test,(50,1))\n",
    "\n",
    "Y_pred_mu=[]\n",
    "Y_pred_var=[]\n",
    "for i in X_test:\n",
    "    vari=get_pred(X_train,Y_train,optimal_sigma,optimal_l,i)\n",
    "    Y_pred_mu.append(vari[0])\n",
    "    Y_pred_var.append(vari[1])\n",
    "\n",
    "for i in range(len(X_test)):\n",
    "    plt.scatter(X_test[i],Y_test[i],c='b',label='actual data')\n",
    "    plt.scatter(X_test[i],Y_pred_mu[i],c='r',label='Prediction')\n",
    "\n",
    "\n",
    "plt.xlabel('x')\n",
    "plt.ylabel('y')\n",
    "\n",
    "plt.title('Q2 assignment 3')\n",
    "plt.show()"
   ]
  },
  {
   "cell_type": "code",
   "execution_count": 48,
   "metadata": {},
   "outputs": [
    {
     "name": "stdout",
     "output_type": "stream",
     "text": [
      "(4.999999999999999, 2.0)\n"
     ]
    }
   ],
   "source": [
    "print(get_pred([-1,0,1],[1,3,5],1,1,1))"
   ]
  }
 ],
 "metadata": {
  "kernelspec": {
   "display_name": "Python 3",
   "language": "python",
   "name": "python3"
  },
  "language_info": {
   "codemirror_mode": {
    "name": "ipython",
    "version": 3
   },
   "file_extension": ".py",
   "mimetype": "text/x-python",
   "name": "python",
   "nbconvert_exporter": "python",
   "pygments_lexer": "ipython3",
   "version": "3.7.4"
  }
 },
 "nbformat": 4,
 "nbformat_minor": 4
}
