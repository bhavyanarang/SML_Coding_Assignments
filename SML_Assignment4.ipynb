{
 "cells": [
  {
   "cell_type": "code",
   "execution_count": 867,
   "metadata": {},
   "outputs": [],
   "source": [
    "import numpy as np\n",
    "import matplotlib.pyplot as plt\n",
    "import torch.nn as nn\n",
    "import torch\n",
    "%matplotlib inline\n",
    "import torch.nn.functional as F\n",
    "mean=np.array([0,0,0])\n",
    "cov=np.array([[1,0.8,0.8],[0.8,1,0.8],[0.8,0.8,1]])\n",
    "training_data=[]\n",
    "testing_data=[]\n",
    "\n",
    "for i in range(800):\n",
    "    x=np.random.multivariate_normal(mean,cov)\n",
    "    x=np.reshape(x,(3,1))\n",
    "    training_data.append(x)\n",
    "\n",
    "for i in range(200):\n",
    "    x=np.random.multivariate_normal(mean,cov)\n",
    "    x=np.reshape(x,(3,1))\n",
    "    testing_data.append(x)\n",
    "\n",
    "training_data=training_data-np.min(training_data)\n",
    "training_data=training_data/np.max(training_data)\n",
    "\n",
    "testing_data=testing_data-np.min(testing_data)\n",
    "testing_data=testing_data/np.max(testing_data)"
   ]
  },
  {
   "cell_type": "code",
   "execution_count": 868,
   "metadata": {},
   "outputs": [],
   "source": [
    "def sigmoid(x):\n",
    "    return(1/(1+np.exp(-1*x)))\n",
    "\n",
    "def sigmoid_derivative(x):\n",
    "    sig=sigmoid(x)\n",
    "    s=sig*(1-sig)\n",
    "    assert s.shape==(3,1)\n",
    "    return(s)\n",
    "\n",
    "def relu(x):\n",
    "    x[x<=0]=0\n",
    "    return(x)\n",
    "\n",
    "def relu_derivative(x):\n",
    "    x[x<=0]=0\n",
    "    x[x>0]=1\n",
    "    return(x)\n",
    "\n",
    "def calc_grad(w1,w2,b1,b2,x):\n",
    "\n",
    "    a1=np.dot(w1,x)+b1\n",
    "    assert a1.shape==(2,1)\n",
    "    \n",
    "    z1=relu(a1)\n",
    "    assert z1.shape==(2,1)\n",
    "    \n",
    "    a2=np.matmul(w2,z1)+b2\n",
    "    assert a2.shape==(3,1)\n",
    "    \n",
    "    z2=sigmoid(a2)\n",
    "    assert z2.shape==(3,1)\n",
    "    x_hat=z2\n",
    "    \n",
    "    grad_b1=np.zeros((2,1))\n",
    "    vari=2*(x_hat-x)*sigmoid_derivative(a2)\n",
    "    grad_b2=vari\n",
    "    grad_w2=np.dot(vari,z1.T)\n",
    "    \n",
    "    act2der=sigmoid_derivative(a2)\n",
    "    act1der=relu_derivative(a1)\n",
    "    m1=np.dot(act1der,act2der.T)   #2x3\n",
    "\n",
    "    m2=2*w2*(x_hat-x)              #3x2\n",
    "    m2=m2.T\n",
    "    \n",
    "    \n",
    "    vari1=m1*m2\n",
    "    grad_w1=vari1*x.T\n",
    "    \n",
    "    x=[grad_w2,grad_b2,grad_w1,grad_b1]\n",
    "\n",
    "    return(x)  \n",
    "\n",
    "def get_pred(w1,w2,b1,b2,x):\n",
    "    a1=np.matmul(w1,x)+b1\n",
    "    z1=relu(a1)\n",
    "    a2=np.matmul(w2,z1)+b2\n",
    "    z2=sigmoid(a2)\n",
    "    x_hat=z2\n",
    "    \n",
    "    return(x_hat)"
   ]
  },
  {
   "cell_type": "code",
   "execution_count": 869,
   "metadata": {},
   "outputs": [],
   "source": [
    "#trainable parameters\n",
    "w1=np.random.rand(2,3)      #weights from input to hidden layer\n",
    "w2=np.random.rand(3,2)      #weights from hidden layer to last\n",
    "b1=np.random.rand(2,1)      #bias of hidden layer\n",
    "b2=np.random.rand(3,1)      #bias of last layer\n"
   ]
  },
  {
   "cell_type": "code",
   "execution_count": 870,
   "metadata": {},
   "outputs": [],
   "source": [
    "epoch=30\n",
    "lr=0.05\n",
    "train_iteration_vs_loss=[]\n",
    "test_iteration_vs_loss=[]\n",
    "\n",
    "for i in range(epoch):\n",
    "    #testing\n",
    "    train_loss=0\n",
    "    \n",
    "    for j in training_data:\n",
    "        grad_w2,grad_b2,grad_w1,grad_b1=calc_grad(w1,w2,b1,b2,j)\n",
    "        loss_vector=(get_pred(w1,w2,b1,b2,j)-j)**2\n",
    "        train_loss+=np.mean(loss_vector)\n",
    "        \n",
    "        w2=w2-lr*grad_w2\n",
    "        b2=b2-lr*grad_b2\n",
    "        w1=w1-lr*grad_w1\n",
    "        b1=b1-lr*grad_b1\n",
    "    \n",
    "    \n",
    "    train_loss=train_loss/len(training_data)\n",
    "    train_iteration_vs_loss.append((i+1,train_loss))\n",
    "    \n",
    "    #testing\n",
    "    \n",
    "    testing_loss=0\n",
    "\n",
    "    for k in range(len(testing_data)):\n",
    "        loss_vector=0\n",
    "        j=testing_data[k]\n",
    "        loss_vector=(get_pred(w1,w2,b1,b2,j)-j)**2\n",
    "        testing_loss+=np.mean(loss_vector)\n",
    "     \n",
    "    testing_loss/=len(testing_data)\n",
    "    test_iteration_vs_loss.append((i+1,testing_loss))\n"
   ]
  },
  {
   "cell_type": "code",
   "execution_count": 871,
   "metadata": {},
   "outputs": [
    {
     "data": {
      "image/png": "[encoded data removed]",
      "text/plain": [
       "<Figure size 432x288 with 1 Axes>"
      ]
     },
     "metadata": {
      "needs_background": "light"
     },
     "output_type": "display_data"
    }
   ],
   "source": [
    "for i in range(len(train_iteration_vs_loss)):\n",
    "    plt.scatter(train_iteration_vs_loss[i][0],train_iteration_vs_loss[i][1],c='b',label='training_loss')\n",
    "    plt.scatter(test_iteration_vs_loss[i][0],test_iteration_vs_loss[i][1],c='r',label='testing_loss')\n",
    "    \n",
    "plt.title(\"loss vs epochs for net built from scratch\")\n",
    "plt.xlabel(\"Epochs\")\n",
    "plt.ylabel(\"Loss\")\n",
    "plt.show()"
   ]
  },
  {
   "cell_type": "code",
   "execution_count": 872,
   "metadata": {},
   "outputs": [],
   "source": [
    "class Net(nn.Module):\n",
    "    def __init__(self,D_in,H,D_out):     #net is refrenced from in class notebook given\n",
    "        super(Net,self).__init__()\n",
    "        self.linear1=nn.Linear(D_in,H)\n",
    "        self.linear2=nn.Linear(H,D_out)\n",
    "\n",
    "        \n",
    "    def forward(self,x):\n",
    "        x=F.relu(self.linear1(x))  \n",
    "        x=torch.sigmoid(self.linear2(x))\n",
    "        return x\n",
    "    \n",
    "model=Net(3,2,3)\n",
    "model=model.float()\n",
    "criterion=nn.MSELoss()\n"
   ]
  },
  {
   "cell_type": "code",
   "execution_count": 873,
   "metadata": {},
   "outputs": [
    {
     "name": "stdout",
     "output_type": "stream",
     "text": [
      "0\n",
      "5\n",
      "10\n",
      "15\n",
      "20\n",
      "25\n"
     ]
    }
   ],
   "source": [
    "learning_rate=0.1\n",
    "optimizer=torch.optim.SGD(model.parameters(), lr=learning_rate)\n",
    "\n",
    "epochs=30\n",
    "net_train_iteration_vs_loss=[]\n",
    "net_test_iteration_vs_loss=[]\n",
    "\n",
    "\n",
    "for i in range(epochs):\n",
    "    if(i%5==0):\n",
    "        print(i)\n",
    "        \n",
    "    train_loss=0\n",
    "    \n",
    "    for j in training_data:\n",
    "        optimizer.zero_grad()\n",
    "        j=torch.from_numpy(j)\n",
    "        j=torch.reshape(j,(1,3))\n",
    "        j=j.float()\n",
    "        pred=model(j)\n",
    "\n",
    "        loss_vector=criterion(pred,j)\n",
    "        loss_vector=loss_vector.float()\n",
    "\n",
    "        train_loss+=loss_vector\n",
    "        #train_loss= curr_loss.detach()\n",
    "        \n",
    "        loss_vector.backward()\n",
    "        optimizer.step()\n",
    "\n",
    "    train_loss/=len(training_data)\n",
    "    net_train_iteration_vs_loss.append((i+1,train_loss))\n",
    "    \n",
    "    \n",
    "    testing_loss=0\n",
    "\n",
    "    for k in range(len(testing_data)):\n",
    "        loss_vector=0\n",
    "        j=testing_data[k]\n",
    "        j=torch.from_numpy(j)\n",
    "        j=torch.reshape(j,(1,3))\n",
    "        j=j.float()\n",
    "        pred=model(j)\n",
    "        loss_vector=criterion(pred,j)\n",
    "        loss_vector=loss_vector.float()\n",
    "        #loss_vector= loss_vector.detach()\n",
    "        testing_loss+=loss_vector\n",
    "\n",
    "    testing_loss/=len(testing_data)\n",
    "    net_test_iteration_vs_loss.append((i+1,testing_loss))\n"
   ]
  },
  {
   "cell_type": "code",
   "execution_count": 874,
   "metadata": {},
   "outputs": [
    {
     "data": {
      "image/png": "[encoded data removed]",
      "text/plain": [
       "<Figure size 432x288 with 1 Axes>"
      ]
     },
     "metadata": {
      "needs_background": "light"
     },
     "output_type": "display_data"
    }
   ],
   "source": [
    "for i in range(len(net_train_iteration_vs_loss)):\n",
    "    plt.scatter(net_train_iteration_vs_loss[i][0],net_train_iteration_vs_loss[i][1].detach(),c='b',label='training_loss')\n",
    "    plt.scatter(net_test_iteration_vs_loss[i][0],net_test_iteration_vs_loss[i][1].detach(),c='r',label='testing_loss')\n",
    "    \n",
    "plt.title(\"loss vs epochs for net built with autograd\")\n",
    "plt.xlabel(\"Epochs\")\n",
    "plt.ylabel(\"Loss\")\n",
    "plt.show()"
   ]
  },
  {
   "cell_type": "code",
   "execution_count": null,
   "metadata": {},
   "outputs": [],
   "source": []
  }
 ],
 "metadata": {
  "kernelspec": {
   "display_name": "Python 3",
   "language": "python",
   "name": "python3"
  },
  "language_info": {
   "codemirror_mode": {
    "name": "ipython",
    "version": 3
   },
   "file_extension": ".py",
   "mimetype": "text/x-python",
   "name": "python",
   "nbconvert_exporter": "python",
   "pygments_lexer": "ipython3",
   "version": "3.7.4"
  }
 },
 "nbformat": 4,
 "nbformat_minor": 4
}
