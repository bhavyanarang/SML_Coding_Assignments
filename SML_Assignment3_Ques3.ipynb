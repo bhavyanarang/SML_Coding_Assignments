{
 "cells": [
  {
   "cell_type": "code",
   "execution_count": 17,
   "metadata": {},
   "outputs": [],
   "source": [
    "import matplotlib.pyplot as plt\n",
    "import numpy as np\n",
    "%matplotlib inline\n",
    "import random\n"
   ]
  },
  {
   "cell_type": "code",
   "execution_count": 18,
   "metadata": {},
   "outputs": [],
   "source": [
    "mean=np.array([0,0])\n",
    "cov=np.array([[1,0.5],[0.5,1]])\n",
    "X=[]\n",
    "Y=[]\n",
    "for i in range(100):\n",
    "    X.append(np.random.multivariate_normal(mean,cov))\n",
    "    Y.append(np.random.normal(0,1))\n",
    "\n",
    "#first 50 samples for training\n",
    "#last 50 samples for testing"
   ]
  },
  {
   "cell_type": "code",
   "execution_count": 19,
   "metadata": {},
   "outputs": [],
   "source": [
    "def sigmoid(x):\n",
    "    return(1/(1+np.exp(-1*x)))\n",
    "\n",
    "def sigmoid_derivative(x):\n",
    "    sig=sigmoid(x)\n",
    "    return(sig*(1-sig))\n",
    "\n",
    "def calc_grad(B1,B2,B3,B0,B_star,X1,X2,y):\n",
    "    a1=B1*X1+B2*X2*B0\n",
    "    z1=sigmoid(a1)\n",
    "    a2=B3*z1+B_star\n",
    "    z2=sigmoid(a2)\n",
    "    y_hat=z2\n",
    "    grad=[0,0,0,0,0]\n",
    "    \n",
    "     #for B0\n",
    "    grad[0]=-2*(y-y_hat)*sigmoid_derivative(a2)*B3*sigmoid_derivative(a1)\n",
    "        \n",
    "    #for B1\n",
    "    grad[1]=-2*(y-y_hat)*sigmoid_derivative(a2)*B3*sigmoid_derivative(a1)*X1\n",
    "        \n",
    "    #for B2\n",
    "    grad[2]=-2*(y-y_hat)*sigmoid_derivative(a2)*B3*sigmoid_derivative(a1)*X2\n",
    "        \n",
    "    #for B3\n",
    "    grad[3]=-2*(y-y_hat)*sigmoid_derivative(a2)*z1\n",
    "        \n",
    "    #for B_star\n",
    "    grad[4]=-2*(y-y_hat)*sigmoid_derivative(a2)\n",
    "        \n",
    "    return(grad)\n",
    "\n",
    "def get_pred(B1,B2,B3,B0,B_star,X1,X2):\n",
    "    a1=B1*X1+B2*X2*B0\n",
    "    z1=sigmoid(a1)\n",
    "    a2=B3*z1+B_star\n",
    "    z2=sigmoid(a2)\n",
    "    y_hat=z2\n",
    "    \n",
    "    return(y_hat)"
   ]
  },
  {
   "cell_type": "code",
   "execution_count": 20,
   "metadata": {},
   "outputs": [
    {
     "name": "stdout",
     "output_type": "stream",
     "text": [
      "2.13849715322647\n"
     ]
    }
   ],
   "source": [
    "lr=1\n",
    "epoch=5\n",
    "order=[]\n",
    "B1=10\n",
    "B2=10\n",
    "B3=10\n",
    "B0=10\n",
    "B_star=10\n",
    "\n",
    "for i in range(50):\n",
    "    order.append(i)\n",
    "    \n",
    "for i in range(epoch):\n",
    "    random.shuffle(order)      #random shuffle of traversal order\n",
    "    curr_lr=lr/(1+i)           #decreasing learning rate\n",
    "    \n",
    "    for j in order:\n",
    "        X1=X[j][0]\n",
    "        X2=X[j][1]\n",
    "        y=Y[j]\n",
    "        \n",
    "        grads=calc_grad(B1,B2,B3,B0,B_star,X1,X2,y)\n",
    "        B0+=curr_lr*grads[0]\n",
    "        B1+=curr_lr*grads[1]\n",
    "        B2+=curr_lr*grads[2]\n",
    "        B3+=curr_lr*grads[3]\n",
    "        B_star+=curr_lr*grads[4]\n",
    "\n",
    "#testing\n",
    "mse=0\n",
    "predict=[]\n",
    "for i in range(50,100):\n",
    "    y_hat=get_pred(B1,B2,B3,B0,B_star,X1,X2)\n",
    "    predict.append(y_hat)\n",
    "    mse+=(y_hat-Y[i])**2\n",
    "    \n",
    "mse/=50\n",
    "print(mse)"
   ]
  },
  {
   "cell_type": "code",
   "execution_count": null,
   "metadata": {},
   "outputs": [],
   "source": []
  },
  {
   "cell_type": "code",
   "execution_count": null,
   "metadata": {},
   "outputs": [],
   "source": []
  }
 ],
 "metadata": {
  "kernelspec": {
   "display_name": "Python 3",
   "language": "python",
   "name": "python3"
  },
  "language_info": {
   "codemirror_mode": {
    "name": "ipython",
    "version": 3
   },
   "file_extension": ".py",
   "mimetype": "text/x-python",
   "name": "python",
   "nbconvert_exporter": "python",
   "pygments_lexer": "ipython3",
   "version": "3.7.4"
  }
 },
 "nbformat": 4,
 "nbformat_minor": 4
}
